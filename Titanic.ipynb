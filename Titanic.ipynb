{
 "cells": [
  {
   "cell_type": "markdown",
   "metadata": {},
   "source": [
    "# Examinando Fatores que Influenciam a Sobrevivência no Titanic"
   ]
  },
  {
   "cell_type": "markdown",
   "metadata": {},
   "source": [
    "## Introdução"
   ]
  },
  {
   "cell_type": "markdown",
   "metadata": {},
   "source": [
    "O naufrágio do RMS Titanic é um dos mais infames naufrágios da história. Em 15 de abril de 1912, durante sua viagem inaugural, o Titanic afundou depois de colidir com um iceberg, matando 1502 de 2224 passageiros e tripulantes. Esta tragédia sensacional chocou a comunidade internacional e levou a melhores normas de segurança para os navios.\n",
    "\n",
    "Uma das razões pelas quais o naufrágio causou tal perda de vida foi que não havia botes salva-vidas suficientes para os passageiros e a tripulação. Embora houvesse algum elemento de sorte envolvido na sobrevivência do naufrágio, alguns grupos de pessoas tinham maior probabilidade de sobreviver do que outros, como mulheres, crianças e a classe alta.\n",
    "\n",
    "Neste projeto, um conjunto de dados contendo detalhes sobre um subconjunto de passageiros que estavam a bordo do Titanic no entanto não temos informações sobre a origem dos dados disponibilizados. Os dados são a base de uma competição de machine learning do Kaggle, que não informa de onde retirou os dados.\n",
    "\n",
    "Etapas da análise\n",
    "\n",
    "A análise será realizada da seguinte forma:\n",
    "\n",
    "Etapa 1: Limpeza dos dados\n",
    "Etapa 2: Elaboração de perguntas a serem respondidas sobre os dados\n",
    "      2.1. Proporcionalmente, havia mais homens ou mulheres que sobreviveram?\n",
    "      2.2. Havia alguma relação entre a classe em que você estava viajando e as chances de sobrevivência da tragédia?\n",
    "      2.3. Houve uma proporção masculina / feminina diferente nas diferentes classes? Isso afetou suas chances de sobrevivência?\n",
    "      2.4. A idade do passageiro teve influência na sua taxa de sobrevivência?  E de que maneira idade e a classe do bilhete se            relaciona com as chances de sobrevivência.\n",
    "      2.5. A quantidade de passageiros com esposas e/ou filhos indica uma taxa de sobrevivência mais alta?\n",
    "      2.6. É possível ver alguma relação com a sobrevivência ao observar os diferentes locais de embarque?\n",
    "Etapa 3: Conclusões\n",
    "      3.1. Limitações, observações finais sobre a análise (limitações dos dados estudados e pontos-chaves encontrados) serão abordados na última etapa:"
   ]
  },
  {
   "cell_type": "markdown",
   "metadata": {},
   "source": [
    "### Descrição das colunas"
   ]
  },
  {
   "cell_type": "markdown",
   "metadata": {},
   "source": [
    "Detalhes sobre os campos do conjunto de dados são descritos a seguir:\n",
    "\n",
    "Survived: Diz se o passageiro sobreviveu (0 = Não; 1 = Sim)\n",
    "Pclass: Classe socio-econômica do passageiro (1 = Classe Alta; 2 = Classe Média; 3 = Classe Baixa)\n",
    "Name: Nome do passageiro\n",
    "Sex: Sexo do Passageiro\n",
    "Age: Idade do passageiro\n",
    "SibSp: Número de irmãos e cônjuges a bordo\n",
    "Parch: Número de pais e filhos a bordo\n",
    "Ticket: Número do ticket do passageiro\n",
    "Fare: Tarifa paga pelo passageiro\n",
    "Cabin: Número da cabine\n",
    "Embarked: Porta de embarcação (C = Cherbourg; Q = Queenstown; S = Southampton)"
   ]
  },
  {
   "cell_type": "code",
   "execution_count": 18,
   "metadata": {},
   "outputs": [
    {
     "data": {
      "text/html": [
       "<div>\n",
       "<style scoped>\n",
       "    .dataframe tbody tr th:only-of-type {\n",
       "        vertical-align: middle;\n",
       "    }\n",
       "\n",
       "    .dataframe tbody tr th {\n",
       "        vertical-align: top;\n",
       "    }\n",
       "\n",
       "    .dataframe thead th {\n",
       "        text-align: right;\n",
       "    }\n",
       "</style>\n",
       "<table border=\"1\" class=\"dataframe\">\n",
       "  <thead>\n",
       "    <tr style=\"text-align: right;\">\n",
       "      <th></th>\n",
       "      <th>PassengerId</th>\n",
       "      <th>Survived</th>\n",
       "      <th>Pclass</th>\n",
       "      <th>Name</th>\n",
       "      <th>Sex</th>\n",
       "      <th>Age</th>\n",
       "      <th>SibSp</th>\n",
       "      <th>Parch</th>\n",
       "      <th>Ticket</th>\n",
       "      <th>Fare</th>\n",
       "      <th>Cabin</th>\n",
       "      <th>Embarked</th>\n",
       "    </tr>\n",
       "  </thead>\n",
       "  <tbody>\n",
       "    <tr>\n",
       "      <th>0</th>\n",
       "      <td>1</td>\n",
       "      <td>0</td>\n",
       "      <td>3</td>\n",
       "      <td>Braund, Mr. Owen Harris</td>\n",
       "      <td>male</td>\n",
       "      <td>22.0</td>\n",
       "      <td>1</td>\n",
       "      <td>0</td>\n",
       "      <td>A/5 21171</td>\n",
       "      <td>7.2500</td>\n",
       "      <td>NaN</td>\n",
       "      <td>S</td>\n",
       "    </tr>\n",
       "    <tr>\n",
       "      <th>1</th>\n",
       "      <td>2</td>\n",
       "      <td>1</td>\n",
       "      <td>1</td>\n",
       "      <td>Cumings, Mrs. John Bradley (Florence Briggs Th...</td>\n",
       "      <td>female</td>\n",
       "      <td>38.0</td>\n",
       "      <td>1</td>\n",
       "      <td>0</td>\n",
       "      <td>PC 17599</td>\n",
       "      <td>71.2833</td>\n",
       "      <td>C85</td>\n",
       "      <td>C</td>\n",
       "    </tr>\n",
       "    <tr>\n",
       "      <th>2</th>\n",
       "      <td>3</td>\n",
       "      <td>1</td>\n",
       "      <td>3</td>\n",
       "      <td>Heikkinen, Miss. Laina</td>\n",
       "      <td>female</td>\n",
       "      <td>26.0</td>\n",
       "      <td>0</td>\n",
       "      <td>0</td>\n",
       "      <td>STON/O2. 3101282</td>\n",
       "      <td>7.9250</td>\n",
       "      <td>NaN</td>\n",
       "      <td>S</td>\n",
       "    </tr>\n",
       "    <tr>\n",
       "      <th>3</th>\n",
       "      <td>4</td>\n",
       "      <td>1</td>\n",
       "      <td>1</td>\n",
       "      <td>Futrelle, Mrs. Jacques Heath (Lily May Peel)</td>\n",
       "      <td>female</td>\n",
       "      <td>35.0</td>\n",
       "      <td>1</td>\n",
       "      <td>0</td>\n",
       "      <td>113803</td>\n",
       "      <td>53.1000</td>\n",
       "      <td>C123</td>\n",
       "      <td>S</td>\n",
       "    </tr>\n",
       "    <tr>\n",
       "      <th>4</th>\n",
       "      <td>5</td>\n",
       "      <td>0</td>\n",
       "      <td>3</td>\n",
       "      <td>Allen, Mr. William Henry</td>\n",
       "      <td>male</td>\n",
       "      <td>35.0</td>\n",
       "      <td>0</td>\n",
       "      <td>0</td>\n",
       "      <td>373450</td>\n",
       "      <td>8.0500</td>\n",
       "      <td>NaN</td>\n",
       "      <td>S</td>\n",
       "    </tr>\n",
       "  </tbody>\n",
       "</table>\n",
       "</div>"
      ],
      "text/plain": [
       "   PassengerId  Survived  Pclass  \\\n",
       "0            1         0       3   \n",
       "1            2         1       1   \n",
       "2            3         1       3   \n",
       "3            4         1       1   \n",
       "4            5         0       3   \n",
       "\n",
       "                                                Name     Sex   Age  SibSp  \\\n",
       "0                            Braund, Mr. Owen Harris    male  22.0      1   \n",
       "1  Cumings, Mrs. John Bradley (Florence Briggs Th...  female  38.0      1   \n",
       "2                             Heikkinen, Miss. Laina  female  26.0      0   \n",
       "3       Futrelle, Mrs. Jacques Heath (Lily May Peel)  female  35.0      1   \n",
       "4                           Allen, Mr. William Henry    male  35.0      0   \n",
       "\n",
       "   Parch            Ticket     Fare Cabin Embarked  \n",
       "0      0         A/5 21171   7.2500   NaN        S  \n",
       "1      0          PC 17599  71.2833   C85        C  \n",
       "2      0  STON/O2. 3101282   7.9250   NaN        S  \n",
       "3      0            113803  53.1000  C123        S  \n",
       "4      0            373450   8.0500   NaN        S  "
      ]
     },
     "execution_count": 18,
     "metadata": {},
     "output_type": "execute_result"
    }
   ],
   "source": [
    "# carregue os conjuntos de dados\n",
    "import pandas as pd\n",
    "import seaborn as sns\n",
    "import matplotlib.pyplot as plt\n",
    "\n",
    "%matplotlib inline\n",
    "\n",
    "titanic = pd.read_csv('titanic_data.csv')\n",
    "# primeiras linhas\n",
    "titanic.head()"
   ]
  },
  {
   "cell_type": "code",
   "execution_count": 4,
   "metadata": {
    "scrolled": false
   },
   "outputs": [
    {
     "data": {
      "text/html": [
       "<div>\n",
       "<style scoped>\n",
       "    .dataframe tbody tr th:only-of-type {\n",
       "        vertical-align: middle;\n",
       "    }\n",
       "\n",
       "    .dataframe tbody tr th {\n",
       "        vertical-align: top;\n",
       "    }\n",
       "\n",
       "    .dataframe thead th {\n",
       "        text-align: right;\n",
       "    }\n",
       "</style>\n",
       "<table border=\"1\" class=\"dataframe\">\n",
       "  <thead>\n",
       "    <tr style=\"text-align: right;\">\n",
       "      <th></th>\n",
       "      <th>PassengerId</th>\n",
       "      <th>Survived</th>\n",
       "      <th>Pclass</th>\n",
       "      <th>Name</th>\n",
       "      <th>Sex</th>\n",
       "      <th>Age</th>\n",
       "      <th>SibSp</th>\n",
       "      <th>Parch</th>\n",
       "      <th>Ticket</th>\n",
       "      <th>Fare</th>\n",
       "      <th>Cabin</th>\n",
       "      <th>Embarked</th>\n",
       "    </tr>\n",
       "  </thead>\n",
       "  <tbody>\n",
       "    <tr>\n",
       "      <th>count</th>\n",
       "      <td>891.000000</td>\n",
       "      <td>891.000000</td>\n",
       "      <td>891.000000</td>\n",
       "      <td>891</td>\n",
       "      <td>891</td>\n",
       "      <td>714.000000</td>\n",
       "      <td>891.000000</td>\n",
       "      <td>891.000000</td>\n",
       "      <td>891</td>\n",
       "      <td>891.000000</td>\n",
       "      <td>204</td>\n",
       "      <td>889</td>\n",
       "    </tr>\n",
       "    <tr>\n",
       "      <th>unique</th>\n",
       "      <td>NaN</td>\n",
       "      <td>NaN</td>\n",
       "      <td>NaN</td>\n",
       "      <td>891</td>\n",
       "      <td>2</td>\n",
       "      <td>NaN</td>\n",
       "      <td>NaN</td>\n",
       "      <td>NaN</td>\n",
       "      <td>681</td>\n",
       "      <td>NaN</td>\n",
       "      <td>147</td>\n",
       "      <td>3</td>\n",
       "    </tr>\n",
       "    <tr>\n",
       "      <th>top</th>\n",
       "      <td>NaN</td>\n",
       "      <td>NaN</td>\n",
       "      <td>NaN</td>\n",
       "      <td>Chapman, Mr. John Henry</td>\n",
       "      <td>male</td>\n",
       "      <td>NaN</td>\n",
       "      <td>NaN</td>\n",
       "      <td>NaN</td>\n",
       "      <td>347082</td>\n",
       "      <td>NaN</td>\n",
       "      <td>G6</td>\n",
       "      <td>S</td>\n",
       "    </tr>\n",
       "    <tr>\n",
       "      <th>freq</th>\n",
       "      <td>NaN</td>\n",
       "      <td>NaN</td>\n",
       "      <td>NaN</td>\n",
       "      <td>1</td>\n",
       "      <td>577</td>\n",
       "      <td>NaN</td>\n",
       "      <td>NaN</td>\n",
       "      <td>NaN</td>\n",
       "      <td>7</td>\n",
       "      <td>NaN</td>\n",
       "      <td>4</td>\n",
       "      <td>644</td>\n",
       "    </tr>\n",
       "    <tr>\n",
       "      <th>mean</th>\n",
       "      <td>446.000000</td>\n",
       "      <td>0.383838</td>\n",
       "      <td>2.308642</td>\n",
       "      <td>NaN</td>\n",
       "      <td>NaN</td>\n",
       "      <td>29.699118</td>\n",
       "      <td>0.523008</td>\n",
       "      <td>0.381594</td>\n",
       "      <td>NaN</td>\n",
       "      <td>32.204208</td>\n",
       "      <td>NaN</td>\n",
       "      <td>NaN</td>\n",
       "    </tr>\n",
       "    <tr>\n",
       "      <th>std</th>\n",
       "      <td>257.353842</td>\n",
       "      <td>0.486592</td>\n",
       "      <td>0.836071</td>\n",
       "      <td>NaN</td>\n",
       "      <td>NaN</td>\n",
       "      <td>14.526497</td>\n",
       "      <td>1.102743</td>\n",
       "      <td>0.806057</td>\n",
       "      <td>NaN</td>\n",
       "      <td>49.693429</td>\n",
       "      <td>NaN</td>\n",
       "      <td>NaN</td>\n",
       "    </tr>\n",
       "    <tr>\n",
       "      <th>min</th>\n",
       "      <td>1.000000</td>\n",
       "      <td>0.000000</td>\n",
       "      <td>1.000000</td>\n",
       "      <td>NaN</td>\n",
       "      <td>NaN</td>\n",
       "      <td>0.420000</td>\n",
       "      <td>0.000000</td>\n",
       "      <td>0.000000</td>\n",
       "      <td>NaN</td>\n",
       "      <td>0.000000</td>\n",
       "      <td>NaN</td>\n",
       "      <td>NaN</td>\n",
       "    </tr>\n",
       "    <tr>\n",
       "      <th>25%</th>\n",
       "      <td>223.500000</td>\n",
       "      <td>0.000000</td>\n",
       "      <td>2.000000</td>\n",
       "      <td>NaN</td>\n",
       "      <td>NaN</td>\n",
       "      <td>20.125000</td>\n",
       "      <td>0.000000</td>\n",
       "      <td>0.000000</td>\n",
       "      <td>NaN</td>\n",
       "      <td>7.910400</td>\n",
       "      <td>NaN</td>\n",
       "      <td>NaN</td>\n",
       "    </tr>\n",
       "    <tr>\n",
       "      <th>50%</th>\n",
       "      <td>446.000000</td>\n",
       "      <td>0.000000</td>\n",
       "      <td>3.000000</td>\n",
       "      <td>NaN</td>\n",
       "      <td>NaN</td>\n",
       "      <td>28.000000</td>\n",
       "      <td>0.000000</td>\n",
       "      <td>0.000000</td>\n",
       "      <td>NaN</td>\n",
       "      <td>14.454200</td>\n",
       "      <td>NaN</td>\n",
       "      <td>NaN</td>\n",
       "    </tr>\n",
       "    <tr>\n",
       "      <th>75%</th>\n",
       "      <td>668.500000</td>\n",
       "      <td>1.000000</td>\n",
       "      <td>3.000000</td>\n",
       "      <td>NaN</td>\n",
       "      <td>NaN</td>\n",
       "      <td>38.000000</td>\n",
       "      <td>1.000000</td>\n",
       "      <td>0.000000</td>\n",
       "      <td>NaN</td>\n",
       "      <td>31.000000</td>\n",
       "      <td>NaN</td>\n",
       "      <td>NaN</td>\n",
       "    </tr>\n",
       "    <tr>\n",
       "      <th>max</th>\n",
       "      <td>891.000000</td>\n",
       "      <td>1.000000</td>\n",
       "      <td>3.000000</td>\n",
       "      <td>NaN</td>\n",
       "      <td>NaN</td>\n",
       "      <td>80.000000</td>\n",
       "      <td>8.000000</td>\n",
       "      <td>6.000000</td>\n",
       "      <td>NaN</td>\n",
       "      <td>512.329200</td>\n",
       "      <td>NaN</td>\n",
       "      <td>NaN</td>\n",
       "    </tr>\n",
       "  </tbody>\n",
       "</table>\n",
       "</div>"
      ],
      "text/plain": [
       "        PassengerId    Survived      Pclass                     Name   Sex  \\\n",
       "count    891.000000  891.000000  891.000000                      891   891   \n",
       "unique          NaN         NaN         NaN                      891     2   \n",
       "top             NaN         NaN         NaN  Chapman, Mr. John Henry  male   \n",
       "freq            NaN         NaN         NaN                        1   577   \n",
       "mean     446.000000    0.383838    2.308642                      NaN   NaN   \n",
       "std      257.353842    0.486592    0.836071                      NaN   NaN   \n",
       "min        1.000000    0.000000    1.000000                      NaN   NaN   \n",
       "25%      223.500000    0.000000    2.000000                      NaN   NaN   \n",
       "50%      446.000000    0.000000    3.000000                      NaN   NaN   \n",
       "75%      668.500000    1.000000    3.000000                      NaN   NaN   \n",
       "max      891.000000    1.000000    3.000000                      NaN   NaN   \n",
       "\n",
       "               Age       SibSp       Parch  Ticket        Fare Cabin Embarked  \n",
       "count   714.000000  891.000000  891.000000     891  891.000000   204      889  \n",
       "unique         NaN         NaN         NaN     681         NaN   147        3  \n",
       "top            NaN         NaN         NaN  347082         NaN    G6        S  \n",
       "freq           NaN         NaN         NaN       7         NaN     4      644  \n",
       "mean     29.699118    0.523008    0.381594     NaN   32.204208   NaN      NaN  \n",
       "std      14.526497    1.102743    0.806057     NaN   49.693429   NaN      NaN  \n",
       "min       0.420000    0.000000    0.000000     NaN    0.000000   NaN      NaN  \n",
       "25%      20.125000    0.000000    0.000000     NaN    7.910400   NaN      NaN  \n",
       "50%      28.000000    0.000000    0.000000     NaN   14.454200   NaN      NaN  \n",
       "75%      38.000000    1.000000    0.000000     NaN   31.000000   NaN      NaN  \n",
       "max      80.000000    8.000000    6.000000     NaN  512.329200   NaN      NaN  "
      ]
     },
     "execution_count": 4,
     "metadata": {},
     "output_type": "execute_result"
    }
   ],
   "source": [
    "titanic.describe(include='all')"
   ]
  },
  {
   "cell_type": "code",
   "execution_count": 5,
   "metadata": {},
   "outputs": [
    {
     "data": {
      "text/plain": [
       "0    549\n",
       "1    342\n",
       "Name: Survived, dtype: int64"
      ]
     },
     "execution_count": 5,
     "metadata": {},
     "output_type": "execute_result"
    }
   ],
   "source": [
    "titanic['Survived'].value_counts()"
   ]
  },
  {
   "cell_type": "code",
   "execution_count": 6,
   "metadata": {},
   "outputs": [
    {
     "data": {
      "text/plain": [
       "0.3838383838383838"
      ]
     },
     "execution_count": 6,
     "metadata": {},
     "output_type": "execute_result"
    }
   ],
   "source": [
    "len(titanic[titanic['Survived'] == 1]) / len(titanic)"
   ]
  },
  {
   "cell_type": "markdown",
   "metadata": {},
   "source": [
    "Se olharmos apenas para os passageiros, havia aproximadamente 1300 saindo com o navio e 812 mortos, deixando a taxa de sobrevivência de passageiros em um nível de 38%, o que é exatamente a mesma da nossa amostra - 38%. Assim, a expectativa é que a nossa amostra seja fiel ao total."
   ]
  },
  {
   "cell_type": "markdown",
   "metadata": {},
   "source": [
    "# 1. Limpeza dos dados"
   ]
  },
  {
   "cell_type": "markdown",
   "metadata": {},
   "source": [
    "Antes de mergulhar nas questões, o conjunto de dados será analisado para identificar anomalias relacionadas à validade, exatidão ou integridade dos dados e, se possível, corrigir tais problemas."
   ]
  },
  {
   "cell_type": "code",
   "execution_count": 24,
   "metadata": {},
   "outputs": [
    {
     "data": {
      "text/plain": [
       "Age         19.865320\n",
       "Cabin       77.104377\n",
       "Embarked     0.224467\n",
       "dtype: float64"
      ]
     },
     "execution_count": 24,
     "metadata": {},
     "output_type": "execute_result"
    }
   ],
   "source": [
    "# Revela quais colunas tem células vazias\n",
    "titanic.isna().sum()[titanic.isna().sum() != 0]/titanic.shape[0] * 100"
   ]
  },
  {
   "cell_type": "markdown",
   "metadata": {},
   "source": [
    "Para preencher as células vazias, substituimos todas pela idade média de todos os passageiros."
   ]
  },
  {
   "cell_type": "code",
   "execution_count": 25,
   "metadata": {},
   "outputs": [],
   "source": [
    "titanic['Age'].fillna(titanic['Age'].mean(), inplace=True)"
   ]
  },
  {
   "cell_type": "markdown",
   "metadata": {},
   "source": [
    "Substituir as células vazias de Embarked por NA."
   ]
  },
  {
   "cell_type": "code",
   "execution_count": 26,
   "metadata": {},
   "outputs": [],
   "source": [
    "titanic['Embarked'].fillna(value='NA', inplace=True)"
   ]
  },
  {
   "cell_type": "markdown",
   "metadata": {},
   "source": [
    "Substituir as células vazias de Cabin por NA."
   ]
  },
  {
   "cell_type": "code",
   "execution_count": 27,
   "metadata": {},
   "outputs": [],
   "source": [
    "titanic['Cabin'].fillna(value='NA', inplace=True)"
   ]
  },
  {
   "cell_type": "markdown",
   "metadata": {},
   "source": [
    "Por fim conferir se todos os valores faltantes foram eliminados."
   ]
  },
  {
   "cell_type": "code",
   "execution_count": 32,
   "metadata": {},
   "outputs": [
    {
     "data": {
      "text/plain": [
       "Series([], dtype: float64)"
      ]
     },
     "execution_count": 32,
     "metadata": {},
     "output_type": "execute_result"
    }
   ],
   "source": [
    "titanic.isna().sum()[titanic.isna().sum() != 0]/titanic.shape[0] * 100"
   ]
  },
  {
   "cell_type": "code",
   "execution_count": 29,
   "metadata": {},
   "outputs": [
    {
     "data": {
      "text/plain": [
       "count     891\n",
       "unique    148\n",
       "top        NA\n",
       "freq      687\n",
       "Name: Cabin, dtype: object"
      ]
     },
     "execution_count": 29,
     "metadata": {},
     "output_type": "execute_result"
    }
   ],
   "source": [
    "titanic['Cabin'].describe()"
   ]
  },
  {
   "cell_type": "markdown",
   "metadata": {},
   "source": [
    "A contagem de células similares em Cabin revela que os existe uma pluralidade de valores únicos, e ainda sim 77% do volume das informações estavam vazias, neste caso ainda não é possível tirar alguma conclusão sobre a influência desta variável na taxa de sobrevivência."
   ]
  },
  {
   "cell_type": "code",
   "execution_count": 30,
   "metadata": {},
   "outputs": [
    {
     "data": {
      "text/plain": [
       "count     891\n",
       "unique    148\n",
       "top        NA\n",
       "freq      687\n",
       "Name: Cabin, dtype: object"
      ]
     },
     "execution_count": 30,
     "metadata": {},
     "output_type": "execute_result"
    }
   ],
   "source": [
    "titanic['Cabin'].describe()"
   ]
  },
  {
   "cell_type": "markdown",
   "metadata": {},
   "source": [
    "A contagem de células similares em Cabin revela que os existe uma pluralidade de valores únicos, e ainda sim 77% do volume das informações estavam vazias, neste caso ainda não é possível tirar alguma conclusão sobre a influência desta variável na taxa de sobrevivência."
   ]
  },
  {
   "cell_type": "markdown",
   "metadata": {},
   "source": [
    "Renomeando o nome das colunas para dar maior clareza na hora da análise."
   ]
  },
  {
   "cell_type": "code",
   "execution_count": 31,
   "metadata": {},
   "outputs": [],
   "source": [
    "titanic.rename(index=str, \n",
    "                  columns={\"Pclass\": \"Bilhete\", \n",
    "                           \"SibSp\": \"Parente\", \n",
    "                           \"Parch\": \"Filhos\"}, \n",
    "                  inplace=True)"
   ]
  },
  {
   "cell_type": "code",
   "execution_count": 9,
   "metadata": {},
   "outputs": [
    {
     "data": {
      "text/html": [
       "<div>\n",
       "<style scoped>\n",
       "    .dataframe tbody tr th:only-of-type {\n",
       "        vertical-align: middle;\n",
       "    }\n",
       "\n",
       "    .dataframe tbody tr th {\n",
       "        vertical-align: top;\n",
       "    }\n",
       "\n",
       "    .dataframe thead th {\n",
       "        text-align: right;\n",
       "    }\n",
       "</style>\n",
       "<table border=\"1\" class=\"dataframe\">\n",
       "  <thead>\n",
       "    <tr style=\"text-align: right;\">\n",
       "      <th></th>\n",
       "      <th>PassengerId</th>\n",
       "      <th>Survived</th>\n",
       "      <th>Bilhete</th>\n",
       "      <th>Name</th>\n",
       "      <th>Sex</th>\n",
       "      <th>Age</th>\n",
       "      <th>Parente</th>\n",
       "      <th>Filhos</th>\n",
       "      <th>Ticket</th>\n",
       "      <th>Fare</th>\n",
       "      <th>Cabin</th>\n",
       "      <th>Embarked</th>\n",
       "    </tr>\n",
       "  </thead>\n",
       "  <tbody>\n",
       "    <tr>\n",
       "      <th>0</th>\n",
       "      <td>1</td>\n",
       "      <td>0</td>\n",
       "      <td>3</td>\n",
       "      <td>Braund, Mr. Owen Harris</td>\n",
       "      <td>male</td>\n",
       "      <td>22.0</td>\n",
       "      <td>1</td>\n",
       "      <td>0</td>\n",
       "      <td>A/5 21171</td>\n",
       "      <td>7.2500</td>\n",
       "      <td>NaN</td>\n",
       "      <td>S</td>\n",
       "    </tr>\n",
       "    <tr>\n",
       "      <th>1</th>\n",
       "      <td>2</td>\n",
       "      <td>1</td>\n",
       "      <td>1</td>\n",
       "      <td>Cumings, Mrs. John Bradley (Florence Briggs Th...</td>\n",
       "      <td>female</td>\n",
       "      <td>38.0</td>\n",
       "      <td>1</td>\n",
       "      <td>0</td>\n",
       "      <td>PC 17599</td>\n",
       "      <td>71.2833</td>\n",
       "      <td>C85</td>\n",
       "      <td>C</td>\n",
       "    </tr>\n",
       "    <tr>\n",
       "      <th>2</th>\n",
       "      <td>3</td>\n",
       "      <td>1</td>\n",
       "      <td>3</td>\n",
       "      <td>Heikkinen, Miss. Laina</td>\n",
       "      <td>female</td>\n",
       "      <td>26.0</td>\n",
       "      <td>0</td>\n",
       "      <td>0</td>\n",
       "      <td>STON/O2. 3101282</td>\n",
       "      <td>7.9250</td>\n",
       "      <td>NaN</td>\n",
       "      <td>S</td>\n",
       "    </tr>\n",
       "    <tr>\n",
       "      <th>3</th>\n",
       "      <td>4</td>\n",
       "      <td>1</td>\n",
       "      <td>1</td>\n",
       "      <td>Futrelle, Mrs. Jacques Heath (Lily May Peel)</td>\n",
       "      <td>female</td>\n",
       "      <td>35.0</td>\n",
       "      <td>1</td>\n",
       "      <td>0</td>\n",
       "      <td>113803</td>\n",
       "      <td>53.1000</td>\n",
       "      <td>C123</td>\n",
       "      <td>S</td>\n",
       "    </tr>\n",
       "    <tr>\n",
       "      <th>4</th>\n",
       "      <td>5</td>\n",
       "      <td>0</td>\n",
       "      <td>3</td>\n",
       "      <td>Allen, Mr. William Henry</td>\n",
       "      <td>male</td>\n",
       "      <td>35.0</td>\n",
       "      <td>0</td>\n",
       "      <td>0</td>\n",
       "      <td>373450</td>\n",
       "      <td>8.0500</td>\n",
       "      <td>NaN</td>\n",
       "      <td>S</td>\n",
       "    </tr>\n",
       "  </tbody>\n",
       "</table>\n",
       "</div>"
      ],
      "text/plain": [
       "   PassengerId  Survived  Bilhete  \\\n",
       "0            1         0        3   \n",
       "1            2         1        1   \n",
       "2            3         1        3   \n",
       "3            4         1        1   \n",
       "4            5         0        3   \n",
       "\n",
       "                                                Name     Sex   Age  Parente  \\\n",
       "0                            Braund, Mr. Owen Harris    male  22.0        1   \n",
       "1  Cumings, Mrs. John Bradley (Florence Briggs Th...  female  38.0        1   \n",
       "2                             Heikkinen, Miss. Laina  female  26.0        0   \n",
       "3       Futrelle, Mrs. Jacques Heath (Lily May Peel)  female  35.0        1   \n",
       "4                           Allen, Mr. William Henry    male  35.0        0   \n",
       "\n",
       "   Filhos            Ticket     Fare Cabin Embarked  \n",
       "0       0         A/5 21171   7.2500   NaN        S  \n",
       "1       0          PC 17599  71.2833   C85        C  \n",
       "2       0  STON/O2. 3101282   7.9250   NaN        S  \n",
       "3       0            113803  53.1000  C123        S  \n",
       "4       0            373450   8.0500   NaN        S  "
      ]
     },
     "execution_count": 9,
     "metadata": {},
     "output_type": "execute_result"
    }
   ],
   "source": [
    "# Verificando, novamente, o estado dos dados e as colunas disponíveis no dataset\n",
    "titanic.head()"
   ]
  },
  {
   "cell_type": "code",
   "execution_count": 14,
   "metadata": {},
   "outputs": [
    {
     "data": {
      "text/plain": [
       "0"
      ]
     },
     "execution_count": 14,
     "metadata": {},
     "output_type": "execute_result"
    }
   ],
   "source": [
    "# Verificando se há dados duplicados\n",
    "sum(titanic.duplicated())"
   ]
  },
  {
   "cell_type": "markdown",
   "metadata": {},
   "source": [
    "# 2. Inicio da análise"
   ]
  },
  {
   "cell_type": "markdown",
   "metadata": {},
   "source": [
    "A intenção desta análise é entender qual ou quais os fatores ou combinações que contribuíram para a sobrevivência da tragédia. A partir algumas perguntas que podem fornecer alguns são indicios são:\n",
    "\n",
    "1.1 - Proporcionalmente, havia mais homens ou mulheres que sobreviveram?\n",
    "1.2 - Havia alguma relação entre a classe em que você estava viajando e as chances de sobrevivência da tragédia?\n",
    "1.3 - Houve uma proporção masculina / feminina diferente nas diferentes classes? Isso afetou suas chances de sobrevivência?\n",
    "1.4 - A idade do passageiro teve influência na sua taxa de sobrevivência?\n",
    "1.5 - A quantidade de passageiros com esposas e/ou filhos indica uma taxa de sobrevivência mais alta?\n",
    "1.6 - É possível ver alguma relação com a sobrevivência ao observar os diferentes locais de embarque?\n",
    "\n",
    "O projeto se concentrará em responder a todas essas perguntas, mas sempre através das lentes dos fatores que contribuíram para a sobrevivência da tragédia."
   ]
  },
  {
   "cell_type": "code",
   "execution_count": 63,
   "metadata": {},
   "outputs": [],
   "source": [
    "# função que aplica estilos nas legendas dos gráficos\n",
    "def aplicar_estilo(chart,xlabel,ylabel,title):\n",
    "    chart.title(title,fontsize=18)\n",
    "    chart.xlabel(xlabel,fontsize=12)\n",
    "    chart.ylabel(ylabel,fontsize=12)"
   ]
  },
  {
   "cell_type": "markdown",
   "metadata": {},
   "source": [
    "## 2.1. Proporcionalmente, havia mais homens ou mulheres que sobreviveram?"
   ]
  },
  {
   "cell_type": "markdown",
   "metadata": {},
   "source": [
    "Primeiramente verificamos a consistência dos dados na coluna de gênero, desta maneira validamos se todas as linhas exibem apenas: masculino ou feminino."
   ]
  },
  {
   "cell_type": "code",
   "execution_count": 16,
   "metadata": {},
   "outputs": [
    {
     "data": {
      "text/plain": [
       "0"
      ]
     },
     "execution_count": 16,
     "metadata": {},
     "output_type": "execute_result"
    }
   ],
   "source": [
    "n_rows =titanic.shape[0]\n",
    "n_cols =titanic.shape[1]\n",
    "expected = [\"male\" , 'female']\n",
    "\n",
    "# A função abaixo deve retornar o valor 0\n",
    "titanic.loc[~titanic['Sex'].isin(expected)].shape[0]"
   ]
  },
  {
   "cell_type": "code",
   "execution_count": 64,
   "metadata": {},
   "outputs": [
    {
     "data": {
      "image/png": "[encoded data removed]",
      "text/plain": [
       "<Figure size 432x288 with 1 Axes>"
      ]
     },
     "metadata": {},
     "output_type": "display_data"
    }
   ],
   "source": [
    "titanic[['Survived']].groupby(titanic['Sex']).mean().plot.bar()\n",
    "aplicar_estilo(plt,'Sexo','Quantidade','Sobreviventes por sexo')"
   ]
  },
  {
   "cell_type": "markdown",
   "metadata": {},
   "source": [
    "Ao observamos o gráfico é visível que a chance das mulheres sobreviverem foi muito superior ao gênero masculino."
   ]
  },
  {
   "cell_type": "markdown",
   "metadata": {},
   "source": [
    "## 2.2. Havia alguma relação entre a classe em que você estava viajando e as chances de sobrevivência da tragédia?"
   ]
  },
  {
   "cell_type": "code",
   "execution_count": 65,
   "metadata": {},
   "outputs": [
    {
     "data": {
      "image/png": "[encoded data removed]",
      "text/plain": [
       "<Figure size 432x288 with 1 Axes>"
      ]
     },
     "metadata": {},
     "output_type": "display_data"
    }
   ],
   "source": [
    "titanic[['Survived']].groupby(titanic['Bilhete']).mean().plot.bar()\n",
    "aplicar_estilo(plt,'Classe do bilhete','Sobreviventes','Média de sobreviventes por classe do bilhete')\n",
    "plt.show()"
   ]
  },
  {
   "cell_type": "markdown",
   "metadata": {},
   "source": [
    "A classe do bilhete, indicando uma condição de classe econômica mas privilegiada e por fim quanto maior a classe, mais próximas as cabines estavam do barco salva-vidas. Sem dúvida um fator importante na sobrevivência, já que podemos observar no gráfico que os que estavam na primeira classe tiveram mais chance de sobreviver."
   ]
  },
  {
   "cell_type": "markdown",
   "metadata": {},
   "source": [
    "## 2.3. Houve uma proporção masculina / feminina diferente nas diferentes classes? Isso afetou suas chances de sobrevivência?\n"
   ]
  },
  {
   "cell_type": "code",
   "execution_count": 52,
   "metadata": {},
   "outputs": [
    {
     "data": {
      "image/png": "[encoded data removed]",
      "text/plain": [
       "<Figure size 1152x432 with 2 Axes>"
      ]
     },
     "metadata": {},
     "output_type": "display_data"
    }
   ],
   "source": [
    "#Avaliar por classe a quantidade de cada gênero e as respectivas chances de sobreviver a tragédia\n",
    "f, (ax1, ax2) = plt.subplots(1, 2, figsize=(16, 6), sharex=True)\n",
    "\n",
    "sns.countplot(x=\"Sex\", hue=\"Bilhete\", palette=\"Set1\", data=titanic, ax=ax1)\n",
    "ax1.set_title(\"Distribuição por genêro\")\n",
    "ax1.set_xlabel(\"\")\n",
    "ax1.set_ylabel(\"Número de passageiros\")\n",
    "\n",
    "sns.barplot(x=\"Sex\", y=\"Survived\", hue=\"Bilhete\", palette=\"Set1\", data=titanic, ax=ax2)\n",
    "ax2.set_title(\"Chances de sobreviver, por classe e gênero\")\n",
    "ax2.set_xlabel(\"\")\n",
    "ax2.set_ylabel(\"Percentual de sobreviventes\")\n",
    "plt.show()"
   ]
  },
  {
   "cell_type": "markdown",
   "metadata": {},
   "source": [
    "Não apenas ser uma mulher afetou suas chances de sobrevivência, mas, acima de tudo, como uma mulher que você estava viajando na 1ª ou na 2ª classe, você estava quase garantido. Mas ser um homem tornou as coisas ainda piores: apesar das chances de sobrevivência por estarem na 1ª classe eram mais do que o dobro do que as da 2ª e 3ª, eles ainda eram mais menores do que as mulheres na 3ª classe."
   ]
  },
  {
   "cell_type": "markdown",
   "metadata": {},
   "source": [
    "## 2.4. A idade do passageiro teve influência na sua taxa de sobrevivência? E de que maneira idade e a classe do bilhete se relaciona com as chances de sobrevivência."
   ]
  },
  {
   "cell_type": "code",
   "execution_count": 54,
   "metadata": {},
   "outputs": [
    {
     "data": {
      "image/png": "[encoded data removed]",
      "text/plain": [
       "<Figure size 432x288 with 1 Axes>"
      ]
     },
     "metadata": {},
     "output_type": "display_data"
    }
   ],
   "source": [
    "# Agrupa os passageiros em intervalos de idade\n",
    "\n",
    "bins = [0, 18, 35, 50, 65, 80]\n",
    "passengers_by_age = titanic.groupby(['Bilhete', pd.cut(titanic.Age, bins)])\n",
    "age_by_pclass = passengers_by_age.size().unstack()\n",
    "\n",
    "age_by_pclass1 = age_by_pclass.iloc[0]\n",
    "age_by_pclass2 = age_by_pclass.iloc[1]\n",
    "age_by_pclass3 = age_by_pclass.iloc[2]\n",
    "\n",
    "# Em seguida, exibe a função incorporada ao gráfico com\n",
    "# o total de passageiros em cada classe, por faixa etária.\n",
    "\n",
    "age_by_pclass_t = age_by_pclass.transpose()\n",
    "ax = age_by_pclass_t.plot.bar(title=\"Passageiros por idade por classe do bilhete\", xticks=[])\n",
    "ax.set_xlabel(\"Intervalo da faixa etária\")\n",
    "ax.set_ylabel(\"Número de passageiros\")\n",
    "\n",
    "plt.show()"
   ]
  },
  {
   "cell_type": "markdown",
   "metadata": {},
   "source": [
    "Antes de mergulhar nos sobreviventes, este enredo dá uma melhor sensibilidade de como as pessoas distribuem de acordo com a idade. É um bom indicador de que o aumento da idade se correlaciona com padrões mais elevados quando se trata de viajar (ou seja, 1ª e 2ª classe)."
   ]
  },
  {
   "cell_type": "code",
   "execution_count": 66,
   "metadata": {},
   "outputs": [
    {
     "data": {
      "image/png": "[encoded data removed]",
      "text/plain": [
       "<Figure size 432x288 with 1 Axes>"
      ]
     },
     "metadata": {},
     "output_type": "display_data"
    },
    {
     "name": "stdout",
     "output_type": "stream",
     "text": [
      "Survived    0    1\n",
      "Age               \n",
      "(0, 18]    69   70\n",
      "(18, 35]  221  137\n",
      "(35, 50]   92   61\n",
      "(50, 65]   35   21\n",
      "(65, 80]    7    1\n"
     ]
    }
   ],
   "source": [
    "# Agrupa os passageiros em invtervalos de idade, delimitados por caixas pré-selecionadas.\n",
    "\n",
    "\n",
    "bins = [0, 18, 35, 50, 65, 80]\n",
    "passengers_by_age = titanic.groupby(['Survived', pd.cut(titanic.Age, bins)])\n",
    "survived_by_age = passengers_by_age.size().unstack()\n",
    "\n",
    "#Em seguida, exibe o gráfico empilhado\n",
    "# com os sobrevientes e mortos, segmentados por faixa etária .\n",
    "\n",
    "survived_by_age_t = survived_by_age.transpose()\n",
    "ax = survived_by_age_t.plot.bar(stacked=True, title=\"Passageiros por intervalo de idade\", xticks=[])\n",
    "ax.set_xlabel(\"Intervalo de idade\")\n",
    "ax.set_ylabel(\"Número de passageiros\")\n",
    "ax.legend(['Não sobreviveu', 'Sobreviveu'])\n",
    "\n",
    "plt.show()\n",
    "print (survived_by_age_t)"
   ]
  },
  {
   "cell_type": "markdown",
   "metadata": {},
   "source": [
    "Este gráfico relaciona algumas tendências observadas nos gráfico anterior.\n",
    "\n",
    "Por um lado, os idosos tendem a viajar em melhores classes à medida que sua idade aumenta. Portanto, uma pequena porcentagem de passageiros entre 18 e 35 anos viajou na 1ª classe, mas a maioria dos passageiros acima de 50 viajou na 1ª e 2ª classe.\n",
    "\n",
    "Mas antes disso, vimos que as mulheres que viajavam na 1ª e na 2ª classe tinham quase o dobro de chances de sobreviver, comparadas com as que viajavam na 3ª classe.\n",
    "\n",
    "Mas aqui vem a parte interessante: independentemente de você ser homem ou mulher, as chances de sobrevivência permaneceram as mesmas (em torno de 40%) em diferentes faixas etárias. Apenas aumentando para as crianças e diminuindo drasticamente para os mais velhos.\n",
    "\n",
    "Portanto, apesar da maior parte de pessoas (entre 18 e 35 anos) estarem viajando principalmente na 3ª classe, elas estavam entre as que obtiveram o maior número de sobreviventes. Nesse sentido, também crianças (18 anos ou menos), que a maioria viajava na 3ª classe, obtiveram a maior taxa de sobrevivência, acima de 50%."
   ]
  },
  {
   "cell_type": "code",
   "execution_count": 59,
   "metadata": {},
   "outputs": [
    {
     "data": {
      "image/png": "[encoded data removed]",
      "text/plain": [
       "<Figure size 1152x432 with 4 Axes>"
      ]
     },
     "metadata": {},
     "output_type": "display_data"
    }
   ],
   "source": [
    "# Dados de Bilhetes filtrados com base na idade, reagrupados em arrays dentro de um novo DF.\n",
    "\n",
    "range_18 = []\n",
    "range_18_35 = []\n",
    "range_35_50 = []\n",
    "range_50_65 = []\n",
    "range_65 = []\n",
    "\n",
    "for index, row in titanic.iterrows():\n",
    "    if (row['Age'] <= 18) & (row['Survived'] == 1):\n",
    "        range_18.append(row[\"Bilhete\"])\n",
    "    elif (18 < row['Age'] <= 35) & (row['Survived'] == 1):\n",
    "        range_18_35.append(row[\"Bilhete\"])\n",
    "    elif (35 < row['Age'] <= 50) & (row['Survived'] == 1):\n",
    "        range_35_50.append(row[\"Bilhete\"])\n",
    "    elif (50 < row['Age'] <= 65) & (row['Survived'] == 1):\n",
    "        range_50_65.append(row[\"Bilhete\"])\n",
    "    elif (row['Age'] >= 65) & (row['Survived'] == 1):\n",
    "        range_65.append(row[\"Bilhete\"])\n",
    "\n",
    "age_df = pd.DataFrame(\n",
    "    data=[range_18,\n",
    "          range_18_35,\n",
    "          range_35_50,\n",
    "          range_50_65,\n",
    "          range_65],\n",
    "    index=['under18', '18to35', '35to50', '50to65', 'over65'])\n",
    "\n",
    "# Em seguida, exibe os sobreviventes por Classe do bilhete para cada grupo de faixa etária.\n",
    "\n",
    "f, (ax1, ax2, ax3, ax4) = plt.subplots(1, 4, figsize=(16, 6), sharex=False)\n",
    "\n",
    "sns.countplot(x=\"under18\", palette=\"Set3\", data=age_df.transpose(), ax=ax1)\n",
    "ax1.set_title(\"Sobreviventes abaixo de 18\")\n",
    "ax1.set_xlabel(\"Classe do bilhete\")\n",
    "ax1.set_ylabel(\"Número de sobreviventes\")\n",
    "ax1.set(xticklabels=[\"1ª\",\"2ª\",\"3ª\"])\n",
    "\n",
    "sns.countplot(x=\"18to35\", palette=\"Set3\", data=age_df.transpose(), ax=ax2)\n",
    "ax2.set_title(\"Sobreviventes entre 18 and 35\")\n",
    "ax2.set_xlabel(\"Classe do bilhete\")\n",
    "ax2.set_ylabel(\"Número de sobreviventes\")\n",
    "ax2.set(xticklabels=[\"1ª\",\"2ª\",\"3ª\"])\n",
    "\n",
    "sns.countplot(x=\"35to50\", palette=\"Set3\", data=age_df.transpose(), ax=ax3)\n",
    "ax3.set_title(\"Sobreviventes entre 35 e 50\")\n",
    "ax3.set_xlabel(\"Classe do bilhete\")\n",
    "ax3.set_ylabel(\"Número de sobreviventes\")\n",
    "ax3.set(xticklabels=[\"1ª\",\"2ª\",\"3ª\"])\n",
    "\n",
    "sns.countplot(x=\"50to65\", palette=\"Set3\", data=age_df.transpose(), ax=ax4)\n",
    "ax4.set_title(\"Sobreviventes entre 50 e 65 anos\")\n",
    "ax4.set_xlabel(\"Classe do bilhete\")\n",
    "ax4.set_ylabel(\"Número de sobreviventes\")\n",
    "ax4.set(xticklabels=[\"1ª\",\"2ª\",\"3ª\"])\n",
    "\n",
    "plt.show()"
   ]
  },
  {
   "cell_type": "markdown",
   "metadata": {},
   "source": [
    "O gráfico acima prova que o intervalo de idade (35 a 50) e (50 a 65), quase todos os sobreviventes vieram da 1a e 2a classe, e realmente poucas pessoas dessa faixa etária (apenas 6 de 209) sobreviveram na terceira classe.\n",
    "\n",
    "Em seguida, o grande volume de sobreviventes vem de 18 a 50, viajando na 1ª e 2ª classe. Portanto, podemos supor, como já vimos na pergunta 2.2, que os passageiros da 1ª e da 2ª classe tiveram uma melhor chance de sobrevivência em comparação com os da 3ª classe.\n",
    "\n",
    "Finalmente, apesar de não mostrar no gráfico acima, dos 8 passageiros abordo com mais de 65 anos, apenas um sobreviveu, sendo ele um passageiro de primeira classe. Ainda que os passageiros com mais de 65 anos foram os que possiam menores chances de sobrevivência."
   ]
  },
  {
   "cell_type": "markdown",
   "metadata": {},
   "source": [
    "## 2.5. A quantidade de passageiros com esposas e/ou filhos indica uma taxa de sobrevivência mais alta?"
   ]
  },
  {
   "cell_type": "code",
   "execution_count": 14,
   "metadata": {},
   "outputs": [
    {
     "data": {
      "text/plain": [
       "0    608\n",
       "1    209\n",
       "2     28\n",
       "4     18\n",
       "3     16\n",
       "8      7\n",
       "5      5\n",
       "Name: Parente, dtype: int64"
      ]
     },
     "execution_count": 14,
     "metadata": {},
     "output_type": "execute_result"
    }
   ],
   "source": [
    "# Conta valores únicos de parentes por passageiros\n",
    "titanic['Parente'].value_counts()"
   ]
  },
  {
   "cell_type": "markdown",
   "metadata": {},
   "source": [
    "Definitivamente a maioria dos passageiros não tinham parentes no navio."
   ]
  },
  {
   "cell_type": "code",
   "execution_count": 66,
   "metadata": {
    "scrolled": true
   },
   "outputs": [
    {
     "data": {
      "image/png": "[encoded data removed]",
      "text/plain": [
       "<Figure size 432x288 with 1 Axes>"
      ]
     },
     "metadata": {},
     "output_type": "display_data"
    }
   ],
   "source": [
    "titanic[['Survived']].groupby([titanic['Parente']]).mean().plot.bar()\n",
    "aplicar_estilo(plt,'Sobreviventes','Média de parentes','Média de sobreviventes por parentes')\n",
    "\n",
    "plt.show()"
   ]
  },
  {
   "cell_type": "markdown",
   "metadata": {},
   "source": [
    "É possível ver que aqueles que tinham ao menos 1 parente no navio tinham mais chance de sobreviver."
   ]
  },
  {
   "cell_type": "code",
   "execution_count": 16,
   "metadata": {},
   "outputs": [
    {
     "data": {
      "text/plain": [
       "0    678\n",
       "1    118\n",
       "2     80\n",
       "5      5\n",
       "3      5\n",
       "4      4\n",
       "6      1\n",
       "Name: Filhos, dtype: int64"
      ]
     },
     "execution_count": 16,
     "metadata": {},
     "output_type": "execute_result"
    }
   ],
   "source": [
    "# Conta valores únicos de filhos por passageiros\n",
    "titanic['Filhos'].value_counts()"
   ]
  },
  {
   "cell_type": "markdown",
   "metadata": {},
   "source": [
    "Definitivamente a maioria não tinha filhos, e como vimos anteriormente ser criança era um fator que aumentava a chances de sobrevivência."
   ]
  },
  {
   "cell_type": "code",
   "execution_count": 67,
   "metadata": {},
   "outputs": [
    {
     "data": {
      "image/png": "[encoded data removed]",
      "text/plain": [
       "<Figure size 432x288 with 1 Axes>"
      ]
     },
     "metadata": {},
     "output_type": "display_data"
    }
   ],
   "source": [
    "titanic[['Survived']].groupby([titanic['Filhos']]).mean().plot.bar()\n",
    "aplicar_estilo(plt,'Sobreviventes','Quantidade média','Média de sobreviventes por filhos no navio')\n",
    "\n",
    "plt.show()"
   ]
  },
  {
   "cell_type": "markdown",
   "metadata": {},
   "source": [
    "É difícil ver padrão no gráfico acima. Dado o fato de que ambos se relacionam com o número de membros da família, podemos ver ambos combinados."
   ]
  },
  {
   "cell_type": "code",
   "execution_count": 68,
   "metadata": {},
   "outputs": [
    {
     "data": {
      "image/png": "[encoded data removed]",
      "text/plain": [
       "<Figure size 432x288 with 1 Axes>"
      ]
     },
     "metadata": {},
     "output_type": "display_data"
    }
   ],
   "source": [
    "#Média de sobreviventes segmentado pelo agrupamento de Filhos e Parentes\n",
    "titanic[['Survived']].groupby([titanic['Filhos'] + titanic['Parente']]).mean().plot.bar()\n",
    "aplicar_estilo(plt,'Sobreviventes','Quantidade média','Média de sobreviventes agrupados por filhos e parentes')\n",
    "plt.show()"
   ]
  },
  {
   "cell_type": "markdown",
   "metadata": {},
   "source": [
    "Parece que a maioria dos passageiros não tinha membros da família a bordo, quanto aqueles que tinham sobreviveram com maior frequência."
   ]
  },
  {
   "cell_type": "markdown",
   "metadata": {},
   "source": [
    "## 2.6. É possível ver alguma relação com a sobrevivência ao observar os diferentes locais de embarque?"
   ]
  },
  {
   "cell_type": "code",
   "execution_count": 69,
   "metadata": {},
   "outputs": [
    {
     "data": {
      "image/png": "[encoded data removed]",
      "text/plain": [
       "<Figure size 432x288 with 1 Axes>"
      ]
     },
     "metadata": {},
     "output_type": "display_data"
    }
   ],
   "source": [
    "# Composição do gráfico em barras dos sobreviventes por local de embarque\n",
    "titanic[['Survived']].groupby([titanic['Embarked']]).mean().plot.bar()\n",
    "aplicar_estilo(plt,'Sobreviventes','Local de embarque','Média de sobreviventes por local de embarque')\n",
    "plt.show()"
   ]
  },
  {
   "cell_type": "markdown",
   "metadata": {},
   "source": [
    "É possível observar que os pessoas que embarcaram em Cherbourg tiveram maiores chances de sobreviver, no entanto não há qualquer explicação para o fato."
   ]
  },
  {
   "cell_type": "markdown",
   "metadata": {},
   "source": [
    "# 3.Conclusão"
   ]
  },
  {
   "cell_type": "markdown",
   "metadata": {},
   "source": [
    "Depois de estudar o conjunto de dados em profundidade, podemos concluir com segurança que haviam vários fatores que contribuíram para a sobrevivência da tragédia. Entretanto, algumas circunstâncias pareciam desempenhar um papel chave nas chances de sobreviver.\n",
    "\n",
    "Para começar, havia 891 passageiros, dos quais:\n",
    "\n",
    "Não sobreviveu: 549 (61,62%)\n",
    "Sobrevivido: 342 (38,38%)\n",
    "\n",
    "Dos 342 que sobreviveram:\n",
    "68,13% eram mulheres\n",
    "31,87% eram homens\n",
    "\n",
    "O que não só nos diz que as mulheres tinham uma chance maior de sobrevivência, mas ainda mais, se colocássemos esses números em uma perspectiva mais global:\n",
    "\n",
    "Havia 314 mulheres(35,24% do total de passageiros)\n",
    "\n",
    "Sobreviveu: 233 (74,21%)\n",
    "Não sobreviveu: 81 (25,79%)\n",
    "\n",
    "Havia 577 homens (64,75% do total de passageiros)\n",
    "Sobreviveu: 109 (18,89%)\n",
    "Não sobreviveu: 468 (81,11%)\n",
    "\n",
    "Portanto, não é só que mais mulheres sobrevivem em números absolutos, mas, em termos percentuais, a diferença é enorme.\n",
    "\n",
    "Mas as coisas ficam ainda mais interessantes quando começamos a investigar as preferências de viagem. Aqui está o colapso das chances de sobrevivência de homens e mulheres segmentados pela classe em que estavam viajando.\n",
    "\n",
    "Mulheres\n",
    "1º 96,80%\n",
    "2 92,10%\n",
    "3º 50,00%\n",
    "\n",
    "Homens\n",
    "1º 36,88%\n",
    "2º 15,74%\n",
    "3 13,54%\n",
    "\n",
    "Se ser mulher era importante, ser uma mulher rica quase lhe garantiu a saída da tragédia. Portanto, não só gênero desempenhou um papel enorme quando se tratou da sobrevivência mas a classe do bilhete adquirido.\n",
    "\n",
    "Quando quebramos o conjunto de dados por idade, isso revelou duas coisas:\n",
    "Primeiro, a maioria dos passageiros pertencia ao grupo de 18 a 35 anos\n",
    "Segundo, era mais provável que os passageiros com mais de 35 anos ocupassem as cadeiras de 1ª e 2ª classe.\n",
    "\n",
    "Logicamente, o que deriva da primeira inferência é que, apesar da maior parte de pessoas (18 a 35 anos) estarem viajando na 3ª classe, elas estavam entre as que obtiveram o maior número de sobreviventes em números absolutos.\n",
    "\n",
    "Finalmente, a divisão por idade e classe do bilhete, revelou que entre as faixas etárias (35-50) e (50-65), quase todos os sobreviventes vieram da 1ª e 2ª classe, e realmente poucas pessoas dessa faixa etária (apenas 6 de 209 ), tiveram exito a partir da 3ª classe.\n",
    "\n",
    "Por fim há alguns pontos a serem discutidos a seguir sobre a limitação do próprio conjunto de dados."
   ]
  },
  {
   "cell_type": "markdown",
   "metadata": {},
   "source": [
    "## 3.1.Limitações"
   ]
  },
  {
   "cell_type": "markdown",
   "metadata": {},
   "source": [
    "Em primeiro lugar, o número de passageiros no momento do acidente varia entre 3.327 a 3.547, dependendo das fontes. Portanto, temos dados limitados em mãos e tirar conclusões de um conjunto pequeno pode apontar para causas enganosas.\n",
    "\n",
    "Além disso, nós não temos registros de idade de uma grande parte do conjunto de dados, cuja maioria foi inferida pela média da idade. Apesar de ser um bom indicador, não é tão confiável quanto ter os dados completos e pode ser propenso a erros em nossas conclusões.\n",
    "\n",
    "Alguns dados adicionais também poderiam ter sido úteis para o estudo. Por exemplo, a distância entre a cabine e os barcos salva-vidas é definitivamente um ótimo elo que não conseguimos explorar. Alem do fato de que quase todos os dados de cabine estão faltando (apenas 204 valores não nulos de 891). Relacionado a isso, o deck onde a cabine estava localizada poderia ter sido um uma informação valiosoa que poderíamos ter usado descobrir o quanto a altura influenciava na taxa de sobrevivência."
   ]
  },
  {
   "cell_type": "code",
   "execution_count": null,
   "metadata": {},
   "outputs": [],
   "source": []
  }
 ],
 "metadata": {
  "kernelspec": {
   "display_name": "Python 3",
   "language": "python",
   "name": "python3"
  },
  "language_info": {
   "codemirror_mode": {
    "name": "ipython",
    "version": 3
   },
   "file_extension": ".py",
   "mimetype": "text/x-python",
   "name": "python",
   "nbconvert_exporter": "python",
   "pygments_lexer": "ipython3",
   "version": "3.6.5"
  }
 },
 "nbformat": 4,
 "nbformat_minor": 2
}
